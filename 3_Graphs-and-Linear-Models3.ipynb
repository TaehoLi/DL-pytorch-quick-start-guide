{
 "cells": [
  {
   "cell_type": "code",
   "execution_count": 1,
   "metadata": {
    "collapsed": true
   },
   "outputs": [],
   "source": [
    "import torch\n",
    "import torch.nn as nn\n",
    "import torchvision.datasets as dsets\n",
    "import torchvision.transforms as trans\n",
    "\n",
    "trainSet = dsets.MNIST(root='./data', train = True, transform=trans.ToTensor(), download=True)"
   ]
  },
  {
   "cell_type": "code",
   "execution_count": 2,
   "metadata": {},
   "outputs": [
    {
     "name": "stdout",
     "output_type": "stream",
     "text": [
      "Number of images 60000\n",
      "Type <class 'torch.Tensor'>\n",
      "Size of each image torch.Size([1, 28, 28])\n"
     ]
    }
   ],
   "source": [
    "print('Number of images {}'.format(len(trainSet)))\n",
    "print('Type {}'.format(type(trainSet[0][0])))\n",
    "print('Size of each image {}'.format(trainSet[0][0].size()))"
   ]
  },
  {
   "cell_type": "code",
   "execution_count": 3,
   "metadata": {},
   "outputs": [
    {
     "data": {
      "text/plain": [
       "torch.Size([1, 28, 28])"
      ]
     },
     "execution_count": 3,
     "metadata": {},
     "output_type": "execute_result"
    }
   ],
   "source": [
    "trainSet[0][0].size() # each image is of size 28 X 28 and is greyscale"
   ]
  },
  {
   "cell_type": "code",
   "execution_count": 4,
   "metadata": {
    "collapsed": true
   },
   "outputs": [],
   "source": [
    "class MultiLogisticModel(nn.Module):\n",
    "    def __init__(self, in_dim, out_dim):\n",
    "        super(MultiLogisticModel, self).__init__()\n",
    "        self.linear = nn.Linear(in_dim, out_dim)\n",
    "        \n",
    "    def forward(self,x):        \n",
    "        out =self.linear(x)\n",
    "        return out "
   ]
  },
  {
   "cell_type": "code",
   "execution_count": 5,
   "metadata": {},
   "outputs": [
    {
     "name": "stdout",
     "output_type": "stream",
     "text": [
      "Length 60000 Size torch.Size([1, 28, 28])\n"
     ]
    }
   ],
   "source": [
    "print('Length {} Size {}'.format(len(trainSet), trainSet[0][0].size()))"
   ]
  },
  {
   "cell_type": "code",
   "execution_count": 6,
   "metadata": {
    "collapsed": true
   },
   "outputs": [],
   "source": [
    "in_dim = 28*28 #input dimensions\n",
    "out_dim = 10 #output dimensions\n",
    "model = MultiLogisticModel(in_dim, out_dim) #instantiate model\n",
    "criterion = nn.CrossEntropyLoss()  #instantiate the loss class\n",
    "optimiser = torch.optim.SGD(model.parameters(), lr=.1) #instantiate the optimiser class"
   ]
  },
  {
   "cell_type": "code",
   "execution_count": 7,
   "metadata": {
    "collapsed": true
   },
   "outputs": [],
   "source": [
    "batchSize = 200\n",
    "epochs = 1\n",
    "trainloader = torch.utils.data.DataLoader(dataset=trainSet, batch_size=batchSize, shuffle = True)"
   ]
  },
  {
   "cell_type": "code",
   "execution_count": 8,
   "metadata": {},
   "outputs": [
    {
     "name": "stdout",
     "output_type": "stream",
     "text": [
      "197.14147725701332\n"
     ]
    }
   ],
   "source": [
    "for epoch in range(epochs): \n",
    "\n",
    "    runningLoss = 0.0\n",
    "    for i, (images,labels) in enumerate(trainloader):\n",
    "        images = images.view(-1, 28 * 28)       \n",
    "        optimiser.zero_grad()\n",
    "        outputs = model(images)        \n",
    "        loss = criterion(outputs, labels)\n",
    "        loss.backward()\n",
    "        optimiser.step()                      \n",
    "        runningLoss += loss.item()\n",
    "      \n",
    "    print(runningLoss)  "
   ]
  },
  {
   "cell_type": "code",
   "execution_count": 9,
   "metadata": {},
   "outputs": [
    {
     "data": {
      "text/plain": [
       "torch.Size([200, 10])"
      ]
     },
     "execution_count": 9,
     "metadata": {},
     "output_type": "execute_result"
    }
   ],
   "source": [
    "predicted = model.forward(images) \n",
    "predicted.size()"
   ]
  },
  {
   "cell_type": "code",
   "execution_count": 10,
   "metadata": {},
   "outputs": [
    {
     "name": "stdout",
     "output_type": "stream",
     "text": [
      "predictions tensor([-2.3188, -1.1309,  6.5369,  2.9319, -2.2821, -2.5718, -0.1925, -0.8286,\n",
      "         1.9347, -1.6721], grad_fn=<SelectBackward>)\n",
      "labels 2\n"
     ]
    }
   ],
   "source": [
    "print('predictions {}'.format(predicted[0]))\n",
    "print('labels {}'.format(labels[0]))"
   ]
  },
  {
   "cell_type": "code",
   "execution_count": 11,
   "metadata": {},
   "outputs": [
    {
     "data": {
      "text/plain": [
       "tensor([2, 9, 6])"
      ]
     },
     "execution_count": 11,
     "metadata": {},
     "output_type": "execute_result"
    }
   ],
   "source": [
    "labels[0:3]"
   ]
  },
  {
   "cell_type": "code",
   "execution_count": 12,
   "metadata": {
    "collapsed": true
   },
   "outputs": [],
   "source": [
    "import numpy as np\n",
    "def successRate(predicted, labels):\n",
    "    predict = [np.argmax(p.detach().numpy()) for p in predicted]\n",
    "    actual =  [labels[i].item() for i in range(len(predicted))]\n",
    "    correct = [i for i, j in zip(predict, actual) if i == j]\n",
    "    return(len(correct)/(len(predict)))"
   ]
  },
  {
   "cell_type": "code",
   "execution_count": 13,
   "metadata": {},
   "outputs": [
    {
     "data": {
      "text/plain": [
       "0.895"
      ]
     },
     "execution_count": 13,
     "metadata": {},
     "output_type": "execute_result"
    }
   ],
   "source": [
    "successRate(predicted, labels)"
   ]
  },
  {
   "cell_type": "code",
   "execution_count": 14,
   "metadata": {},
   "outputs": [
    {
     "data": {
      "text/plain": [
       "0.8838"
      ]
     },
     "execution_count": 14,
     "metadata": {},
     "output_type": "execute_result"
    }
   ],
   "source": [
    "testSet = dsets.MNIST(root='./data', train = False, transform=trans.ToTensor(), download=True)\n",
    "testloader = torch.utils.data.DataLoader(dataset=trainSet,  batch_size = 10000, shuffle = True)\n",
    "\n",
    "testData = iter(testloader)\n",
    "images, labels = testData.next()\n",
    "output = model(images.view(-1, 28 * 28))\n",
    "successRate(output,labels)"
   ]
  },
  {
   "cell_type": "code",
   "execution_count": 15,
   "metadata": {},
   "outputs": [
    {
     "name": "stdout",
     "output_type": "stream",
     "text": [
      "tensor([[ 6.4514, -4.9508,  1.2452, -0.7546, -1.8097,  3.0718,  0.9548, -3.7740,\n",
      "          2.2809, -2.5286],\n",
      "        [-0.8575, -3.1152, -0.6729, -3.1439,  2.7192, -0.9009, -0.7080,  1.0994,\n",
      "          1.4507,  4.6895],\n",
      "        [ 0.1471, -5.9872,  1.1395,  7.3173, -1.7418,  3.8221, -5.1650, -2.3776,\n",
      "          4.1774, -1.4668]], grad_fn=<SliceBackward>)\n",
      "tensor([0, 9, 3])\n"
     ]
    },
    {
     "data": {
      "text/plain": [
       "0.905"
      ]
     },
     "execution_count": 15,
     "metadata": {},
     "output_type": "execute_result"
    }
   ],
   "source": [
    "testSet = dsets.MNIST(root='./data', train = False, transform=trans.ToTensor(), download=True)\n",
    "testloader = torch.utils.data.DataLoader(dataset=trainSet, batch_size = batchSize, shuffle = True)\n",
    "\n",
    "testData = iter(testloader)\n",
    "images, labels = testData.next()\n",
    "output = model(images.view(-1, 28 * 28))\n",
    "#successRate(output,labels)\n",
    "predicted = model.forward(images.view(-1, 28 * 28))   \n",
    "print(predicted[0:3])\n",
    "print(labels[0:3])\n",
    "successRate(predicted,labels)"
   ]
  },
  {
   "cell_type": "code",
   "execution_count": 16,
   "metadata": {
    "collapsed": true
   },
   "outputs": [],
   "source": [
    "pred = [np.argmax(p.detach().numpy()) for p in output] \n",
    "incorrect = ([i for i, j in zip(pred, labels) if i != j])"
   ]
  },
  {
   "cell_type": "code",
   "execution_count": 18,
   "metadata": {},
   "outputs": [
    {
     "data": {
      "text/plain": [
       "torch.Size([1, 28, 28])"
      ]
     },
     "execution_count": 18,
     "metadata": {},
     "output_type": "execute_result"
    }
   ],
   "source": [
    "images[0].size()"
   ]
  },
  {
   "cell_type": "code",
   "execution_count": null,
   "metadata": {},
   "outputs": [],
   "source": []
  }
 ],
 "metadata": {
  "kernelspec": {
   "display_name": "Python 3",
   "language": "python",
   "name": "python3"
  },
  "language_info": {
   "codemirror_mode": {
    "name": "ipython",
    "version": 3
   },
   "file_extension": ".py",
   "mimetype": "text/x-python",
   "name": "python",
   "nbconvert_exporter": "python",
   "pygments_lexer": "ipython3",
   "version": "3.6.8"
  }
 },
 "nbformat": 4,
 "nbformat_minor": 2
}
