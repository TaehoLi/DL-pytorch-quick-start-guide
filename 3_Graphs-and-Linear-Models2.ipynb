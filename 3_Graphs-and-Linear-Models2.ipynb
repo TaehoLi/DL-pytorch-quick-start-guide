{
 "cells": [
  {
   "cell_type": "code",
   "execution_count": 1,
   "metadata": {
    "collapsed": true
   },
   "outputs": [],
   "source": [
    "import torch\n",
    "import torch.nn as nn\n",
    "\n",
    "#Standard model class\n",
    "class LinearModel(nn.Module):\n",
    "    def __init__(self, in_dim, out_dim):\n",
    "        super(LinearModel, self).__init__()\n",
    "        self.linear = nn.Linear(in_dim, out_dim)\n",
    "        \n",
    "    def forward(self,x):\n",
    "        out = self.linear(x)\n",
    "        return out\n",
    "    \n",
    "model = LinearModel(1, 1)"
   ]
  },
  {
   "cell_type": "code",
   "execution_count": 2,
   "metadata": {
    "collapsed": true
   },
   "outputs": [],
   "source": [
    "learnRate = 0.01\n",
    "optimiser =  torch.optim.SGD(model.parameters(), lr =learnRate)\n",
    "criterion = nn.MSELoss()"
   ]
  },
  {
   "cell_type": "code",
   "execution_count": 3,
   "metadata": {
    "collapsed": true
   },
   "outputs": [],
   "source": [
    "x_train=torch.tensor([i for i in range(10)], dtype = torch.float).reshape(-1,1)\n",
    "#x_train = torch.randn(10).reshape(-1,1)\n",
    "#x_train = torch.tensor([1,2,3,4,5,6,7,8,9,10], dtype=torch.float).reshape(-1,1)\n",
    "y_train = torch.tensor([3*x*+5 for x in x_train]).reshape(-1,1) "
   ]
  },
  {
   "cell_type": "code",
   "execution_count": 4,
   "metadata": {},
   "outputs": [
    {
     "name": "stdout",
     "output_type": "stream",
     "text": [
      "tensor([[0.3556],\n",
      "        [1.1466],\n",
      "        [1.9376],\n",
      "        [2.7286],\n",
      "        [3.5197],\n",
      "        [4.3107],\n",
      "        [5.1017],\n",
      "        [5.8927],\n",
      "        [6.6837],\n",
      "        [7.4748]], grad_fn=<AddmmBackward>)\n"
     ]
    }
   ],
   "source": [
    "out = model(x_train) \n",
    "print(out)"
   ]
  },
  {
   "cell_type": "code",
   "execution_count": 5,
   "metadata": {},
   "outputs": [
    {
     "name": "stdout",
     "output_type": "stream",
     "text": [
      "tensor([[-0.5718,  0.2838],\n",
      "        [-0.5718,  0.2838]], grad_fn=<AddmmBackward>)\n",
      "Parameter containing:\n",
      "tensor([-0.3863, -0.2905], requires_grad=True)\n",
      "Parameter containing:\n",
      "tensor([[-0.2730, -0.1346,  0.2220],\n",
      "        [ 0.4537,  0.2082, -0.0877]], requires_grad=True)\n"
     ]
    }
   ],
   "source": [
    "import torch\n",
    "import torch.nn as nn\n",
    "x = torch.ones(2,3, dtype=torch.float)\n",
    "lin=nn.Linear(3, 2)\n",
    "print(lin(x))\n",
    "print(lin.bias)\n",
    "print(lin.weight)"
   ]
  },
  {
   "cell_type": "code",
   "execution_count": 6,
   "metadata": {},
   "outputs": [
    {
     "name": "stdout",
     "output_type": "stream",
     "text": [
      "epoch0, loss 5708.66552734375\n",
      "epoch1, loss 987.7883911132812\n",
      "epoch2, loss 172.1797332763672\n",
      "epoch3, loss 31.255834579467773\n",
      "epoch4, loss 6.892419338226318\n",
      "epoch5, loss 2.666534900665283\n",
      "epoch6, loss 1.919837474822998\n",
      "epoch7, loss 1.7744029760360718\n",
      "epoch8, loss 1.7330271005630493\n",
      "epoch9, loss 1.709814190864563\n",
      "epoch10, loss 1.6899198293685913\n",
      "epoch11, loss 1.6707732677459717\n",
      "epoch12, loss 1.651936411857605\n",
      "epoch13, loss 1.6333287954330444\n",
      "epoch14, loss 1.6149307489395142\n",
      "epoch15, loss 1.5967445373535156\n",
      "epoch16, loss 1.5787609815597534\n",
      "epoch17, loss 1.5609791278839111\n",
      "epoch18, loss 1.543399691581726\n",
      "epoch19, loss 1.5260165929794312\n",
      "epoch20, loss 1.508827805519104\n",
      "epoch21, loss 1.4918345212936401\n",
      "epoch22, loss 1.4750336408615112\n",
      "epoch23, loss 1.458422303199768\n",
      "epoch24, loss 1.4419962167739868\n",
      "epoch25, loss 1.4257545471191406\n",
      "epoch26, loss 1.409694790840149\n",
      "epoch27, loss 1.3938204050064087\n",
      "epoch28, loss 1.378122091293335\n",
      "epoch29, loss 1.362601399421692\n",
      "epoch30, loss 1.3472555875778198\n",
      "epoch31, loss 1.3320807218551636\n",
      "epoch32, loss 1.3170788288116455\n",
      "epoch33, loss 1.3022452592849731\n",
      "epoch34, loss 1.2875792980194092\n",
      "epoch35, loss 1.2730745077133179\n",
      "epoch36, loss 1.2587376832962036\n",
      "epoch37, loss 1.2445626258850098\n",
      "epoch38, loss 1.230542540550232\n",
      "epoch39, loss 1.216683268547058\n",
      "epoch40, loss 1.2029812335968018\n",
      "epoch41, loss 1.1894328594207764\n",
      "epoch42, loss 1.1760375499725342\n",
      "epoch43, loss 1.1627912521362305\n",
      "epoch44, loss 1.1496949195861816\n",
      "epoch45, loss 1.1367452144622803\n",
      "epoch46, loss 1.1239454746246338\n",
      "epoch47, loss 1.1112852096557617\n",
      "epoch48, loss 1.0987706184387207\n",
      "epoch49, loss 1.0863925218582153\n",
      "epoch50, loss 1.0741608142852783\n",
      "epoch51, loss 1.0620603561401367\n",
      "epoch52, loss 1.05010187625885\n",
      "epoch53, loss 1.038272500038147\n",
      "epoch54, loss 1.0265778303146362\n",
      "epoch55, loss 1.0150177478790283\n",
      "epoch56, loss 1.0035847425460815\n",
      "epoch57, loss 0.9922806024551392\n",
      "epoch58, loss 0.9811044931411743\n",
      "epoch59, loss 0.9700556993484497\n",
      "epoch60, loss 0.9591320157051086\n",
      "epoch61, loss 0.948327898979187\n",
      "epoch62, loss 0.9376474618911743\n",
      "epoch63, loss 0.9270873665809631\n",
      "epoch64, loss 0.9166439175605774\n",
      "epoch65, loss 0.9063214063644409\n",
      "epoch66, loss 0.8961149454116821\n",
      "epoch67, loss 0.886021614074707\n",
      "epoch68, loss 0.8760426640510559\n",
      "epoch69, loss 0.866177499294281\n",
      "epoch70, loss 0.8564192056655884\n",
      "epoch71, loss 0.8467759490013123\n",
      "epoch72, loss 0.8372402191162109\n",
      "epoch73, loss 0.8278086185455322\n",
      "epoch74, loss 0.8184852600097656\n",
      "epoch75, loss 0.8092669248580933\n",
      "epoch76, loss 0.8001525402069092\n",
      "epoch77, loss 0.7911406755447388\n",
      "epoch78, loss 0.7822310328483582\n",
      "epoch79, loss 0.7734201550483704\n",
      "epoch80, loss 0.7647092938423157\n",
      "epoch81, loss 0.7560948729515076\n",
      "epoch82, loss 0.7475795149803162\n",
      "epoch83, loss 0.7391608953475952\n",
      "epoch84, loss 0.730836033821106\n",
      "epoch85, loss 0.7226042151451111\n",
      "epoch86, loss 0.714466392993927\n",
      "epoch87, loss 0.706421434879303\n",
      "epoch88, loss 0.6984638571739197\n",
      "epoch89, loss 0.6905970573425293\n",
      "epoch90, loss 0.6828189492225647\n",
      "epoch91, loss 0.6751294136047363\n",
      "epoch92, loss 0.6675238609313965\n",
      "epoch93, loss 0.6600064039230347\n",
      "epoch94, loss 0.6525737047195435\n",
      "epoch95, loss 0.6452250480651855\n",
      "epoch96, loss 0.6379581689834595\n",
      "epoch97, loss 0.6307728290557861\n",
      "epoch98, loss 0.6236680746078491\n",
      "epoch99, loss 0.6166431307792664\n"
     ]
    }
   ],
   "source": [
    "epochs = 100\n",
    "for epoch in range(epochs):\n",
    "    inputs = x_train\n",
    "    labels = y_train\n",
    "    out = model(inputs)    \n",
    "    optimiser.zero_grad()    \n",
    "    loss = criterion(out, labels)    \n",
    "    loss.backward()    \n",
    "    optimiser.step()\n",
    "    predicted = model.forward(x_train)    \n",
    "    print('epoch{}, loss {}'.format(epoch, loss.item()))"
   ]
  },
  {
   "cell_type": "code",
   "execution_count": 7,
   "metadata": {},
   "outputs": [
    {
     "name": "stdout",
     "output_type": "stream",
     "text": [
      "OrderedDict([('linear.weight', tensor([[14.7686]])), ('linear.bias', tensor([1.4511]))])\n"
     ]
    }
   ],
   "source": [
    "print(model.state_dict())"
   ]
  },
  {
   "cell_type": "code",
   "execution_count": 9,
   "metadata": {},
   "outputs": [
    {
     "data": {
      "image/png": "[encoded data removed]",
      "text/plain": [
       "<Figure size 432x288 with 1 Axes>"
      ]
     },
     "metadata": {
      "needs_background": "light"
     },
     "output_type": "display_data"
    }
   ],
   "source": [
    "import matplotlib.pyplot as plt\n",
    "%matplotlib inline\n",
    "\n",
    "x = x_train.detach().numpy() \n",
    "plt.plot(x, predicted.detach().numpy(), label = 'predicted')\n",
    "plt.plot(x, y_train.detach().numpy(),'go', label = 'from data')\n",
    "plt.legend()\n",
    "plt.show()"
   ]
  },
  {
   "cell_type": "code",
   "execution_count": 10,
   "metadata": {
    "collapsed": true
   },
   "outputs": [],
   "source": [
    "torch.save(model.state_dict(), './data/testmodel.pkl')"
   ]
  },
  {
   "cell_type": "code",
   "execution_count": 11,
   "metadata": {
    "collapsed": true
   },
   "outputs": [],
   "source": [
    "model = LinearModel(1,1)\n",
    "model.load_state_dict(torch.load('./data/testmodel.pkl'))"
   ]
  },
  {
   "cell_type": "code",
   "execution_count": 13,
   "metadata": {},
   "outputs": [
    {
     "data": {
      "text/plain": [
       "tensor([[  1.4511],\n",
       "        [ 16.2197],\n",
       "        [ 30.9883],\n",
       "        [ 45.7569],\n",
       "        [ 60.5254],\n",
       "        [ 75.2940],\n",
       "        [ 90.0626],\n",
       "        [104.8312],\n",
       "        [119.5998],\n",
       "        [134.3684]], grad_fn=<AddmmBackward>)"
      ]
     },
     "execution_count": 13,
     "metadata": {},
     "output_type": "execute_result"
    }
   ],
   "source": [
    "predicted"
   ]
  },
  {
   "cell_type": "code",
   "execution_count": null,
   "metadata": {},
   "outputs": [],
   "source": []
  }
 ],
 "metadata": {
  "kernelspec": {
   "display_name": "Python 3",
   "language": "python",
   "name": "python3"
  },
  "language_info": {
   "codemirror_mode": {
    "name": "ipython",
    "version": 3
   },
   "file_extension": ".py",
   "mimetype": "text/x-python",
   "name": "python",
   "nbconvert_exporter": "python",
   "pygments_lexer": "ipython3",
   "version": "3.6.8"
  }
 },
 "nbformat": 4,
 "nbformat_minor": 2
}
